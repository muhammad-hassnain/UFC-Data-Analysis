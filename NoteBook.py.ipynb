{
 "cells": [
  {
   "cell_type": "code",
   "execution_count": 1,
   "id": "2361ff6b",
   "metadata": {},
   "outputs": [
    {
     "name": "stdout",
     "output_type": "stream",
     "text": [
      "Collecting wikipedia\n",
      "  Using cached wikipedia-1.4.0.tar.gz (27 kB)\n",
      "  Preparing metadata (setup.py): started\n",
      "  Preparing metadata (setup.py): finished with status 'done'\n",
      "Requirement already satisfied: beautifulsoup4 in c:\\users\\muham\\anaconda3\\lib\\site-packages (from wikipedia) (4.11.1)\n",
      "Requirement already satisfied: requests<3.0.0,>=2.0.0 in c:\\users\\muham\\anaconda3\\lib\\site-packages (from wikipedia) (2.28.1)\n",
      "Requirement already satisfied: charset-normalizer<3,>=2 in c:\\users\\muham\\anaconda3\\lib\\site-packages (from requests<3.0.0,>=2.0.0->wikipedia) (2.0.4)\n",
      "Requirement already satisfied: certifi>=2017.4.17 in c:\\users\\muham\\anaconda3\\lib\\site-packages (from requests<3.0.0,>=2.0.0->wikipedia) (2022.9.14)\n",
      "Requirement already satisfied: idna<4,>=2.5 in c:\\users\\muham\\anaconda3\\lib\\site-packages (from requests<3.0.0,>=2.0.0->wikipedia) (3.3)\n",
      "Requirement already satisfied: urllib3<1.27,>=1.21.1 in c:\\users\\muham\\anaconda3\\lib\\site-packages (from requests<3.0.0,>=2.0.0->wikipedia) (1.26.11)\n",
      "Requirement already satisfied: soupsieve>1.2 in c:\\users\\muham\\anaconda3\\lib\\site-packages (from beautifulsoup4->wikipedia) (2.3.1)\n",
      "Building wheels for collected packages: wikipedia\n",
      "  Building wheel for wikipedia (setup.py): started\n",
      "  Building wheel for wikipedia (setup.py): finished with status 'done'\n",
      "  Created wheel for wikipedia: filename=wikipedia-1.4.0-py3-none-any.whl size=11680 sha256=134108961ea86e87085b8d926ff34ad324fbad5d810c27634d78096e041a9103\n",
      "  Stored in directory: c:\\users\\muham\\appdata\\local\\pip\\cache\\wheels\\c2\\46\\f4\\caa1bee71096d7b0cdca2f2a2af45cacf35c5760bee8f00948\n",
      "Successfully built wikipedia\n",
      "Installing collected packages: wikipedia\n",
      "Successfully installed wikipedia-1.4.0\n",
      "Note: you may need to restart the kernel to use updated packages.\n"
     ]
    }
   ],
   "source": [
    "pip install wikipedia"
   ]
  },
  {
   "cell_type": "code",
   "execution_count": 16,
   "id": "1e20b6aa",
   "metadata": {},
   "outputs": [],
   "source": [
    "import pandas as pd\n",
    "import wikipedia"
   ]
  },
  {
   "cell_type": "code",
   "execution_count": 17,
   "id": "1b1fdf92",
   "metadata": {},
   "outputs": [],
   "source": [
    "wikipedia.set_lang(\"en\")"
   ]
  },
  {
   "cell_type": "code",
   "execution_count": 11,
   "id": "e7505d1b",
   "metadata": {},
   "outputs": [],
   "source": [
    "data = pd.read_csv(\"data.csv\")"
   ]
  },
  {
   "cell_type": "code",
   "execution_count": 35,
   "id": "495f4bc0",
   "metadata": {},
   "outputs": [
    {
     "data": {
      "text/html": [
       "<div>\n",
       "<style scoped>\n",
       "    .dataframe tbody tr th:only-of-type {\n",
       "        vertical-align: middle;\n",
       "    }\n",
       "\n",
       "    .dataframe tbody tr th {\n",
       "        vertical-align: top;\n",
       "    }\n",
       "\n",
       "    .dataframe thead th {\n",
       "        text-align: right;\n",
       "    }\n",
       "</style>\n",
       "<table border=\"1\" class=\"dataframe\">\n",
       "  <thead>\n",
       "    <tr style=\"text-align: right;\">\n",
       "      <th></th>\n",
       "      <th>r_fighter</th>\n",
       "      <th>b_fighter</th>\n",
       "      <th>referee</th>\n",
       "      <th>date</th>\n",
       "      <th>location</th>\n",
       "      <th>winner</th>\n",
       "      <th>title_bout</th>\n",
       "      <th>weight_class</th>\n",
       "      <th>b_avg_kd</th>\n",
       "      <th>b_avg_opp_kd</th>\n",
       "      <th>...</th>\n",
       "      <th>r_win_by_decision_unanimous</th>\n",
       "      <th>r_win_by_ko/tko</th>\n",
       "      <th>r_win_by_submission</th>\n",
       "      <th>r_win_by_tko_doctor_stoppage</th>\n",
       "      <th>r_stance</th>\n",
       "      <th>r_height_cms</th>\n",
       "      <th>r_reach_cms</th>\n",
       "      <th>r_weight_lbs</th>\n",
       "      <th>b_age</th>\n",
       "      <th>r_age</th>\n",
       "    </tr>\n",
       "  </thead>\n",
       "  <tbody>\n",
       "    <tr>\n",
       "      <th>0</th>\n",
       "      <td>Adrian Yanez</td>\n",
       "      <td>Gustavo Lopez</td>\n",
       "      <td>Chris Tognoni</td>\n",
       "      <td>2021-03-20</td>\n",
       "      <td>Las Vegas, Nevada, USA</td>\n",
       "      <td>Red</td>\n",
       "      <td>False</td>\n",
       "      <td>Bantamweight</td>\n",
       "      <td>0.0</td>\n",
       "      <td>0.0</td>\n",
       "      <td>...</td>\n",
       "      <td>0</td>\n",
       "      <td>1</td>\n",
       "      <td>0</td>\n",
       "      <td>0</td>\n",
       "      <td>Orthodox</td>\n",
       "      <td>170.18</td>\n",
       "      <td>177.80</td>\n",
       "      <td>135.0</td>\n",
       "      <td>31.0</td>\n",
       "      <td>27.0</td>\n",
       "    </tr>\n",
       "    <tr>\n",
       "      <th>1</th>\n",
       "      <td>Trevin Giles</td>\n",
       "      <td>Roman Dolidze</td>\n",
       "      <td>Herb Dean</td>\n",
       "      <td>2021-03-20</td>\n",
       "      <td>Las Vegas, Nevada, USA</td>\n",
       "      <td>Red</td>\n",
       "      <td>False</td>\n",
       "      <td>Middleweight</td>\n",
       "      <td>0.5</td>\n",
       "      <td>0.0</td>\n",
       "      <td>...</td>\n",
       "      <td>0</td>\n",
       "      <td>3</td>\n",
       "      <td>0</td>\n",
       "      <td>0</td>\n",
       "      <td>Orthodox</td>\n",
       "      <td>182.88</td>\n",
       "      <td>187.96</td>\n",
       "      <td>185.0</td>\n",
       "      <td>32.0</td>\n",
       "      <td>28.0</td>\n",
       "    </tr>\n",
       "    <tr>\n",
       "      <th>2</th>\n",
       "      <td>Tai Tuivasa</td>\n",
       "      <td>Harry Hunsucker</td>\n",
       "      <td>Herb Dean</td>\n",
       "      <td>2021-03-20</td>\n",
       "      <td>Las Vegas, Nevada, USA</td>\n",
       "      <td>Red</td>\n",
       "      <td>False</td>\n",
       "      <td>Heavyweight</td>\n",
       "      <td>NaN</td>\n",
       "      <td>NaN</td>\n",
       "      <td>...</td>\n",
       "      <td>1</td>\n",
       "      <td>3</td>\n",
       "      <td>0</td>\n",
       "      <td>0</td>\n",
       "      <td>Southpaw</td>\n",
       "      <td>187.96</td>\n",
       "      <td>190.50</td>\n",
       "      <td>264.0</td>\n",
       "      <td>32.0</td>\n",
       "      <td>28.0</td>\n",
       "    </tr>\n",
       "  </tbody>\n",
       "</table>\n",
       "<p>3 rows × 144 columns</p>\n",
       "</div>"
      ],
      "text/plain": [
       "      r_fighter        b_fighter        referee        date  \\\n",
       "0  Adrian Yanez    Gustavo Lopez  Chris Tognoni  2021-03-20   \n",
       "1  Trevin Giles    Roman Dolidze      Herb Dean  2021-03-20   \n",
       "2   Tai Tuivasa  Harry Hunsucker      Herb Dean  2021-03-20   \n",
       "\n",
       "                 location winner  title_bout  weight_class  b_avg_kd  \\\n",
       "0  Las Vegas, Nevada, USA    Red       False  Bantamweight       0.0   \n",
       "1  Las Vegas, Nevada, USA    Red       False  Middleweight       0.5   \n",
       "2  Las Vegas, Nevada, USA    Red       False   Heavyweight       NaN   \n",
       "\n",
       "   b_avg_opp_kd  ...  r_win_by_decision_unanimous  r_win_by_ko/tko  \\\n",
       "0           0.0  ...                            0                1   \n",
       "1           0.0  ...                            0                3   \n",
       "2           NaN  ...                            1                3   \n",
       "\n",
       "   r_win_by_submission  r_win_by_tko_doctor_stoppage  r_stance  r_height_cms  \\\n",
       "0                    0                             0  Orthodox        170.18   \n",
       "1                    0                             0  Orthodox        182.88   \n",
       "2                    0                             0  Southpaw        187.96   \n",
       "\n",
       "   r_reach_cms  r_weight_lbs  b_age  r_age  \n",
       "0       177.80         135.0   31.0   27.0  \n",
       "1       187.96         185.0   32.0   28.0  \n",
       "2       190.50         264.0   32.0   28.0  \n",
       "\n",
       "[3 rows x 144 columns]"
      ]
     },
     "execution_count": 35,
     "metadata": {},
     "output_type": "execute_result"
    }
   ],
   "source": [
    "# data.head()\n",
    "# converting columns into lower case\n",
    "data.columns = data.columns.str.lower()\n",
    "data.head(3)"
   ]
  },
  {
   "cell_type": "code",
   "execution_count": 36,
   "id": "d480ef65",
   "metadata": {},
   "outputs": [
    {
     "name": "stdout",
     "output_type": "stream",
     "text": [
      "6012\n",
      "['adrian yanez (born november 29, 1993) is an american mixed martial artist who competes in the bantamweight division of the ultimate fighting championship. as of march 7, 2023, he is #12 in the ufc bantamweight rankings.\\n\\n\\n== ', \" ==\\nhis father being a golden gloves winner, yanez went into boxing from a young age, but later on took up bjj. he started training mma at the age of 15, having his first fight at the age of 17. before the ufc, yanez worked for the city of deer park as a meter reader. for most of his mixed martial arts career yanez trained under late saul soliz in houston, tx.\\n\\n\\n== mixed martial arts career ==\\n\\n\\n=== early career ===\\nafter finishing a successful 6-0 amateur career with four consecutive tko’s, yanez made his professional debut at just 20 years old, and ended with yanez victorious by tko in the third round. suffering his first defeat against levi mowles in his very next bout, having no answer for the wrestling and ground and pound, he lost via unanimous decision. the texan recovered with two victories in fury fc, and then won his bellator debut at bellator 149 against ryan hollis via unanimous decision. yanez then dropped a razor thin split decision to future ufc bantamweight domingo pilarte at lfa 7. winning his next two bouts in the promotion, yanez faced another current ufc fighter miles johns for the vacant lfa bantamweight champion at lfa 55. with history repeating itself, yanez was on the wrong end of a close split decision loss. with two stoppage wins over warren stewart and michael rodriguez and then winning a split decision against kyle estrada at lfa 78, yanzes was invited to dana white's contender series 28, where he defeated brady huang in 39 seconds , earning a ufc contract in the process.\\n\\n\\n=== ultimate fighting championship ===\\nyanez was scheduled to make his ufc debut against aaron phillips on october 31, 2020 at ufc fight night: hall vs. silva. however on october 20, phillips pulled out due to an undisclosed injury. instead, yanez faced promotional newcomer victor rodriguez. yanez won the bout via head kick knockout in the first round. this win earned him performance fight of the night award.yanez faced gustavo lopez on march 20, 2021 at ufc on espn: brunson vs. holland. he won the fight via walkoff knockout in round three. this win earned him the performance of the night award.yanez faced randy costa at ufc on espn: sandhagen vs. dillashaw on july 24, 2021. after getting dominated in the first round, yanez rallied back in the second round winning by technical knockout. this fight earned him the performance of the night award.as the first bout of his new four-fight contract, yanez faced davey grant on november 20, 2021 at ufc fight night 198. he won the bout via split decision, although 12 of 12 media scores gave it to yanez. the bout earned both fighters the fight of the night award.yanez faced tony kelley on june 18, 2022 at ufc on espn 37. at the weigh-ins on june 17, kelley weighed in at 137.5 pounds, 1.5 pounds over the non-title bantamweight limit. as a result, the bout proceeded as a catchweight and kelley forfeited 20% of his purse to yanez. he won the bout in the first round via tko stoppage. this win earned him his fourth performance of the night award.yanez is scheduled to face rob font on april 8, 2023 at ufc 287\\n\\n\\n== personal life ==\\nyanez has a son (born 2021).\\n\\n\\n== championships and achievements ==\\nultimate fighting championship\\nperformance of the night (four times) vs. victor rodriguez, gustavo lopez, randy costa and tony kelley\\nfight of the night (one time)  vs. davey grant\\n\\n\\n== mixed martial arts record ==\\n\\n\\n== see also ==\\nlist of current ufc fighters\\nlist of male mixed martial artists\\n\\n\\n== references ==\\n\\n\\n== external links ==\\nprofessional mma record for adrian yanez from sherdog\\nadrian yanez at ufc\"]\n",
      "male\n",
      "['trevin dewayne giles (born august 6, 1992) is an american mixed martial artist (mma). giles currently competes in the welterweight division in the ultimate fighting championship (ufc).\\n\\n\\n== ', ' ==\\ngiles was born in san antonio, texas, and was a football defensive player at alief taylor high school in houston, texas. giles started martial arts training when he was 20 years old.\\n\\n\\n== mixed martial arts career ==\\n\\n\\n=== early career ===\\ngiles started his professional mma career in 2014, with a triangle choke submission of angelus raymond mcfarlane. he would go on to amass a 4–0 record fighting in the texas circuit.he fought outside of texas for the first time on march 25, 2015, when he was scheduled to fight brendan allen at legacy fc 52. giles beat the future ufc middleweight by rear-naked choke.after a first-round tko of robert mccarthy at caribbean uff 10, giles was scheduled to fight robert mccarthy at rfa 41. giles submitted mccarthy with a rear-naked choke in the second round.at legacy fc 59, giles was scheduled to fight another future ufc middleweight in ike villanueva. he beat villanueava by a third-round arm-triangle choke.giles headlined lfa 3 in a middleweight bout with ryan spann. he beat spann by split decision, to keep his undefeated record.\\n\\n\\n=== ultimate fighting championship ===\\ngiles made his ufc debut on july 8, 2017, against james bochnovic at ufc 213. he won the fight via knockout in round two.his next fight came on december 9, 2017, at ufc fight night: swanson vs. ortega against antônio braga neto. he won the fight via knockout in the third round.giles faced zak cummings on may 18, 2019, at ufc fight night: dos anjos vs. lee. he lost the fight via a guillotine choke submission in the third round.as the last fight of his rookie contract in the ufc, giles faced gerald meerschaert on august 3, 2019, at ufc on espn 5. he lost the fight via technical submission in the third round due to a guillotine choke.giles was scheduled to face antônio arroyo on february 8, 2020, at ufc 247. however arroyo pulled out a day before the event due to medical issues and he was replaced by james krause. he won the back-and-forth bout via split decision. the win also earned giles his first fight of the night bonus award.giles was expected to face jun yong park on august 1, 2020, at ufc fight night: brunson vs. shahbazyan. however, park was removed from the bout on july 23 due to alleged travel issues and was replaced by kevin holland. just prior to his walkout, giles fainted and the fight was canceled.giles faced bevon lewis on november 7, 2020, at ufc on espn: santos vs. teixeira. he won the fight via technical knockout.giles was scheduled to face dricus du plessis on march 20, 2021, at ufc on espn 21. however, du plessis pulled out due to visa issues and was replaced by roman dolidze. he won the close bout via unanimous decision. 9 out of 17 media members awarded the decision victory to giles.the match between giles and dricus du plessis was rescheduled and eventually took place on july 10, 2021, at ufc 264. giles lost the fight via knockout in round two.giles faced michael morales on january 22, 2022, at ufc 270. he lost the bout via technical knockout in round one.giles faced louis cosce on september 10, 2022, at ufc fight night: sandhagen vs. song. he won the fight via unanimous decision.giles is scheduled to face preston parsons on march 15, 2023 at ufc on espn 43.\\n\\n\\n== personal life ==\\ntrevin and his wife coreyonna have a son (born 2019). giles was a police officer, working for the houston police department. giles announced his retirement from police work in an instagram post in february 2022.\\n\\n\\n== championships and awards ==\\nultimate fighting championship\\nfight of the night (one time)  vs.  james krause\\n\\n\\n== mixed martial arts record ==\\n\\n\\n== see also ==\\nlist of current ufc fighters\\nlist of male mixed martial artists\\n\\n\\n== references ==\\n\\n\\n== external links ==\\nprofessional mma record for trevin giles from sherdog^ trevin giles at ufc']\n",
      "male\n",
      "['tai anthony tuivasa (born 16 march 1993) is an australian professional mixed martial artist. he currently competes in the heavyweight division in the ultimate fighting championship (ufc). as of march 13, 2023, he is #6 in the ufc heavyweight rankings.\\n\\n\\n== early life ==\\ntuivasa was born in sydney to an indigenous australian (wiradjuri) mother and a samoan father. he grew up in the western sydney suburb of mount druitt with 11 siblings, and predominantly played rugby league in his youth. he was signed by the professional sydney roosters rugby league club in 2010 but gave up playing the sport when he developed a gambling addiction.\\n\\n\\n== mixed martial arts career ==\\n\\n\\n=== early career ===\\ntuivasa made his professional mma debut in august 2012 in his native australia. he fought sporadically over the next four years, with all of his wins ending in knockouts.tuivasa also fought a couple mma mixed rules bouts with combat 8 promotions. tuivasa fought australian former rugby league representative john hopoate on 1 december 2012 in the newcastle panthers fc arena at combat 8:02, the second combat 8 event, winning the fight by tko. tuivasa later fought kickboxer peter graham at combat 8:03, in a back and forth brawl that seemed as if tuivasa would finish his opponent early on. yet as the fight went on, graham rallied and tuivasa tired, leading to an eventual loss for tuivasa via tko in the second round due to punches.\\n\\n\\n=== ultimate fighting championship ===\\nin november 2016, it was announced that tuivasa had signed a four-fight contract with the ultimate fighting championship. according to tuivasa, he had to sit out for an extended period due to a knee injury and subsequent surgery.tuivasa would make his ufc debut against rashad coulter on 19 november 2017 at ufc fight night: werdum vs. tybura. tuivasa won the fight via knockout due to a flying knee in the first round and became the first indigenous australian to win a ufc fight. this win also earned him the performance of the night bonus.tuivasa faced cyril asker on 11 february 2018 at ufc 221. he won the fight via technical knock out in the first round. on 13 february 2018 tuivasa entered the ufc\\'s official rankings for heavyweight fighters, coming in at position 15.in march 2018, tuivasa signed a new, four-fight contract with ufc. tuivasa faced andrei arlovski on 9 june 2018 at ufc 225. he won the fight by unanimous decision.tuivasa faced former ufc heavyweight champion junior dos santos on 2 december 2018 at ufc fight night 142.  he lost the fight via technical knockout in round two.tuivasa faced blagoy ivanov on 8 june 2019 at ufc 238. he lost the fight via unanimous decision.tuivasa faced sergey spivak on 6 october 2019 at ufc 243. he lost the fight via arm-triangle choke in the second round.tuivasa was scheduled to face jarjis danho on 6 june 2020 at ufc 251. however, on 9 april, dana white, the president of ufc announced that this event was postponed to a future date.tuivasa faced stefan struve on 24 october 2020 at ufc 254. he won the fight via knockout in the first round.tuivasa was scheduled to face don\\'tale mayes on 20 march 2021 at ufc on espn 21. however, mayes was removed from the fight during the week leading up to the event for undisclosed reasons and was replaced by promotional newcomer harry hunsucker. tuivasa won the fight via technical knockout in round one.tuivasa faced greg hardy on 10 july 2021 at ufc 264. he won the fight via knockout in round one. this win earned him the performance of the night award.tuivasa was scheduled to face walt harris on 30 october 2021 at ufc 267. however, harris pulled out of the bout and tuivasa was scheduled to face augusto sakai on 20 november 2021 at ufc fight night 198. however due to visa issues for tuivasa, the bout was scrapped. the pair was rescheduled and eventually met on 11 december 2021 at ufc 269. tuivasa won the fight via knockout in the second round. the win also earned tuivasa his third performance of the night bonus award.tuivasa faced derrick lewis on 12 february 2022 at ufc 271. tuivasa won the fight via knockout in round two. the win earned him a performance of the night bonus award.tuivasa faced ciryl gane on 3 september 2022 at ufc fight night 209. despite a knockdown for tuivasa in the second, he lost the fight via knockout in round three. this fight earned him the fight of the night award.tuivasa faced sergei pavlovich on  december 3, 2022, at ufc on espn 42. he lost the fight via knockout in round one.\\n\\n\\n== championships and accomplishments ==\\nultimate fighting championship\\nperformance of the night (four times) vs. rashad coulter, greg hardy, augusto sakai and derrick lewis\\nfight of the night (one time) vs. ciryl gane\\naustralian fighting championship\\nafc heavyweight champion (one time)\\nnational dreamtime awards 2018\\nnational dreamtime awards 2018 international sportsperson of the year.\\nmmajunkie.com\\n2021 july knockout of the month vs. greg hardy\\n\\n\\n== personal life ==\\ntuivasa has one son, carter tuivasa, with brierley pedro who is the sister of ufc light heavyweight fighter tyson pedro.tuivasa currently hosts \"the halfcast podcast\" with tyson pedro and andrew fifita as co-hosts.since 2018, tuivasa has celebrated his victories by doing a shoey, drinking beer from a borrowed shoe. sydney newspaper the daily telegraph coined the moniker \"shoeyvasa\". at ufc 254, he won again but was not allowed to do the shoey in the cage, but has since continued the tradition.\\n\\n\\n== mixed martial arts record ==\\n\\n\\n== professional boxing record ==\\n\\n\\n== kickboxing record ==\\n\\n\\n== mma mixed rules record ==\\n\\n\\n== see also ==\\nlist of current ufc fighters\\nlist of male mixed martial artists\\n\\n\\n== notes ==\\n\\n\\n== references ==\\n\\n\\n== external links ==\\ntai tuivasa at boxrec\\ntai tuivasa at ufc\\ntai tuivasa at sherdog\\ntai tuivasa at tapology.com\\ntai tuivasa at fight matrix']\n"
     ]
    },
    {
     "ename": "IndexError",
     "evalue": "list index out of range",
     "output_type": "error",
     "traceback": [
      "\u001b[1;31m---------------------------------------------------------------------------\u001b[0m",
      "\u001b[1;31mIndexError\u001b[0m                                Traceback (most recent call last)",
      "\u001b[1;32m~\\AppData\\Local\\Temp\\ipykernel_11452\\906760484.py\u001b[0m in \u001b[0;36m<module>\u001b[1;34m\u001b[0m\n\u001b[0;32m      6\u001b[0m     \u001b[0mbackground\u001b[0m \u001b[1;33m=\u001b[0m \u001b[0mcontent\u001b[0m\u001b[1;33m.\u001b[0m\u001b[0msplit\u001b[0m\u001b[1;33m(\u001b[0m\u001b[1;34m\"background\"\u001b[0m\u001b[1;33m)\u001b[0m\u001b[1;33m\u001b[0m\u001b[1;33m\u001b[0m\u001b[0m\n\u001b[0;32m      7\u001b[0m     \u001b[0mprint\u001b[0m\u001b[1;33m(\u001b[0m\u001b[0mbackground\u001b[0m\u001b[1;33m)\u001b[0m\u001b[1;33m\u001b[0m\u001b[1;33m\u001b[0m\u001b[0m\n\u001b[1;32m----> 8\u001b[1;33m     \u001b[0mbackground\u001b[0m \u001b[1;33m=\u001b[0m \u001b[0mbackground\u001b[0m\u001b[1;33m[\u001b[0m\u001b[1;36m1\u001b[0m\u001b[1;33m]\u001b[0m\u001b[1;33m.\u001b[0m\u001b[0msplit\u001b[0m\u001b[1;33m(\u001b[0m\u001b[1;34m\"==\"\u001b[0m\u001b[1;33m)\u001b[0m\u001b[1;33m\u001b[0m\u001b[1;33m\u001b[0m\u001b[0m\n\u001b[0m\u001b[0;32m      9\u001b[0m     \u001b[0mbackground\u001b[0m \u001b[1;33m=\u001b[0m \u001b[0mbackground\u001b[0m\u001b[1;33m[\u001b[0m\u001b[1;36m1\u001b[0m\u001b[1;33m]\u001b[0m\u001b[1;33m\u001b[0m\u001b[1;33m\u001b[0m\u001b[0m\n\u001b[0;32m     10\u001b[0m     \u001b[1;32mif\u001b[0m \u001b[1;34m\"he\"\u001b[0m \u001b[1;32mor\u001b[0m \u001b[1;34m\"his\"\u001b[0m \u001b[1;32mor\u001b[0m \u001b[1;34m\"him\"\u001b[0m \u001b[1;32min\u001b[0m \u001b[0mbackground\u001b[0m\u001b[1;33m:\u001b[0m\u001b[1;33m\u001b[0m\u001b[1;33m\u001b[0m\u001b[0m\n",
      "\u001b[1;31mIndexError\u001b[0m: list index out of range"
     ]
    }
   ],
   "source": [
    "def getGender(fighterName)\n",
    "\n",
    "\n",
    "\n",
    "r_fighter = data[\"r_fighter\"]\n",
    "print(len(r_fighter))\n",
    "for i in r_fighter:\n",
    "    page = wikipedia.page(i)\n",
    "    content = page.content.lower()\n",
    "    background = content.split(\"background\") \n",
    "    print(background)\n",
    "    background = background[1].split(\"==\")\n",
    "    background = background[1] \n",
    "    if \"he\" or \"his\" or \"him\" in background:\n",
    "        print(\"male\")\n",
    "    else:\n",
    "        print(\"female\")\n",
    "#     break"
   ]
  },
  {
   "cell_type": "code",
   "execution_count": null,
   "id": "304fa2c8",
   "metadata": {},
   "outputs": [],
   "source": []
  }
 ],
 "metadata": {
  "kernelspec": {
   "display_name": "Python 3 (ipykernel)",
   "language": "python",
   "name": "python3"
  },
  "language_info": {
   "codemirror_mode": {
    "name": "ipython",
    "version": 3
   },
   "file_extension": ".py",
   "mimetype": "text/x-python",
   "name": "python",
   "nbconvert_exporter": "python",
   "pygments_lexer": "ipython3",
   "version": "3.9.13"
  }
 },
 "nbformat": 4,
 "nbformat_minor": 5
}
