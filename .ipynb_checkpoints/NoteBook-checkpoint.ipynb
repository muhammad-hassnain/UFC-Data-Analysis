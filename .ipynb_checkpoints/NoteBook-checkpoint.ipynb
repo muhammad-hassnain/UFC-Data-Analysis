{
 "cells": [
  {
   "cell_type": "code",
   "execution_count": null,
   "id": "2361ff6b",
   "metadata": {},
   "outputs": [
    {
     "name": "stdout",
     "output_type": "stream",
     "text": [
      "Requirement already satisfied: wikipedia in c:\\users\\muham\\anaconda3\\lib\\site-packages (1.4.0)\n",
      "Requirement already satisfied: requests<3.0.0,>=2.0.0 in c:\\users\\muham\\anaconda3\\lib\\site-packages (from wikipedia) (2.28.1)\n",
      "Requirement already satisfied: beautifulsoup4 in c:\\users\\muham\\anaconda3\\lib\\site-packages (from wikipedia) (4.11.1)\n",
      "Requirement already satisfied: urllib3<1.27,>=1.21.1 in c:\\users\\muham\\anaconda3\\lib\\site-packages (from requests<3.0.0,>=2.0.0->wikipedia) (1.26.11)\n",
      "Requirement already satisfied: idna<4,>=2.5 in c:\\users\\muham\\anaconda3\\lib\\site-packages (from requests<3.0.0,>=2.0.0->wikipedia) (3.3)\n",
      "Requirement already satisfied: certifi>=2017.4.17 in c:\\users\\muham\\anaconda3\\lib\\site-packages (from requests<3.0.0,>=2.0.0->wikipedia) (2022.9.14)\n",
      "Requirement already satisfied: charset-normalizer<3,>=2 in c:\\users\\muham\\anaconda3\\lib\\site-packages (from requests<3.0.0,>=2.0.0->wikipedia) (2.0.4)\n",
      "Requirement already satisfied: soupsieve>1.2 in c:\\users\\muham\\anaconda3\\lib\\site-packages (from beautifulsoup4->wikipedia) (2.3.1)\n"
     ]
    }
   ],
   "source": [
    "!pip install wikipedia\n",
    "!pip install gender"
   ]
  },
  {
   "cell_type": "code",
   "execution_count": null,
   "id": "1e20b6aa",
   "metadata": {},
   "outputs": [],
   "source": [
    "import pandas as pd\n",
    "import wikipedia\n",
    "import gender_guesser.detector as gender"
   ]
  },
  {
   "cell_type": "code",
   "execution_count": null,
   "id": "1b1fdf92",
   "metadata": {},
   "outputs": [],
   "source": [
    "wikipedia.set_lang(\"en\")\n",
    "detector = gender.Detector()"
   ]
  },
  {
   "cell_type": "code",
   "execution_count": null,
   "id": "e7505d1b",
   "metadata": {},
   "outputs": [],
   "source": [
    "data = pd.read_csv(\"data.csv\")"
   ]
  },
  {
   "cell_type": "code",
   "execution_count": null,
   "id": "495f4bc0",
   "metadata": {},
   "outputs": [],
   "source": [
    "# data.head()\n",
    "# converting columns into lower case\n",
    "data.columns = data.columns.str.lower()\n",
    "data.head(3)"
   ]
  },
  {
   "cell_type": "code",
   "execution_count": null,
   "id": "d480ef65",
   "metadata": {},
   "outputs": [],
   "source": [
    "def getGender(name):\n",
    "    guess = detector.get_gender(fighter.split(\" \")[0])\n",
    "    if \"female\" in guess:\n",
    "        return \"female\"\n",
    "    if \"male\" in guess:\n",
    "        return \"male\"\n",
    "    try:\n",
    "        page =  wikipedia.page(name)\n",
    "        summary = page.summary\n",
    "        if \"he\" or \"him\" or \"his\" in summary:\n",
    "            return \"male\"\n",
    "        if \"she\" or \"her\" in summary:\n",
    "            return \"female\"\n",
    "        return 0\n",
    "    except:\n",
    "        return 0\n",
    "#     print(\"Name:\", fighter,\"Gender:\" , guess)\n",
    "\n",
    "    \n",
    "\n",
    "r_fighter = data[\"r_fighter\"]\n",
    "print(len(r_fighter))\n",
    "genders = []\n",
    "i=0\n",
    "for fighter in r_fighter:\n",
    "    print(i)\n",
    "    genders.append(getGender(fighter))\n",
    "    i+=1\n",
    "a = [x for x in genders if x==0]\n",
    "print(len(a))"
   ]
  },
  {
   "cell_type": "code",
   "execution_count": null,
   "id": "304fa2c8",
   "metadata": {},
   "outputs": [],
   "source": [
    "with open(\"genders.txt\", \"w\") as f:\n",
    "    for a in genders:\n",
    "        f.write(str(a))\n",
    "        f.write(\"\\n\")\n",
    "#         f.write()\n",
    "    "
   ]
  },
  {
   "cell_type": "code",
   "execution_count": null,
   "id": "e250b8ce",
   "metadata": {},
   "outputs": [],
   "source": []
  },
  {
   "cell_type": "code",
   "execution_count": null,
   "id": "c642b692",
   "metadata": {},
   "outputs": [],
   "source": []
  }
 ],
 "metadata": {
  "kernelspec": {
   "display_name": "Python 3 (ipykernel)",
   "language": "python",
   "name": "python3"
  },
  "language_info": {
   "codemirror_mode": {
    "name": "ipython",
    "version": 3
   },
   "file_extension": ".py",
   "mimetype": "text/x-python",
   "name": "python",
   "nbconvert_exporter": "python",
   "pygments_lexer": "ipython3",
   "version": "3.9.13"
  }
 },
 "nbformat": 4,
 "nbformat_minor": 5
}
