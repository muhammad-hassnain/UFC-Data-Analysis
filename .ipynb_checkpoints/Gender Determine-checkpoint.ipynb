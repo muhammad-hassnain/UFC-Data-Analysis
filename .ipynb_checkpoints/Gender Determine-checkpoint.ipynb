{
 "cells": [
  {
   "cell_type": "code",
   "execution_count": 1,
   "id": "2361ff6b",
   "metadata": {},
   "outputs": [
    {
     "name": "stdout",
     "output_type": "stream",
     "text": [
      "Requirement already satisfied: wikipedia in c:\\users\\muham\\anaconda3\\lib\\site-packages (1.4.0)\n",
      "Requirement already satisfied: requests<3.0.0,>=2.0.0 in c:\\users\\muham\\anaconda3\\lib\\site-packages (from wikipedia) (2.28.1)\n",
      "Requirement already satisfied: beautifulsoup4 in c:\\users\\muham\\anaconda3\\lib\\site-packages (from wikipedia) (4.11.1)\n",
      "Requirement already satisfied: charset-normalizer<3,>=2 in c:\\users\\muham\\anaconda3\\lib\\site-packages (from requests<3.0.0,>=2.0.0->wikipedia) (2.0.4)\n",
      "Requirement already satisfied: urllib3<1.27,>=1.21.1 in c:\\users\\muham\\anaconda3\\lib\\site-packages (from requests<3.0.0,>=2.0.0->wikipedia) (1.26.11)\n",
      "Requirement already satisfied: idna<4,>=2.5 in c:\\users\\muham\\anaconda3\\lib\\site-packages (from requests<3.0.0,>=2.0.0->wikipedia) (3.3)\n",
      "Requirement already satisfied: certifi>=2017.4.17 in c:\\users\\muham\\anaconda3\\lib\\site-packages (from requests<3.0.0,>=2.0.0->wikipedia) (2022.9.14)\n",
      "Requirement already satisfied: soupsieve>1.2 in c:\\users\\muham\\anaconda3\\lib\\site-packages (from beautifulsoup4->wikipedia) (2.3.1)\n",
      "Requirement already satisfied: gender in c:\\users\\muham\\anaconda3\\lib\\site-packages (0.0.33)\n",
      "Requirement already satisfied: unidecode in c:\\users\\muham\\anaconda3\\lib\\site-packages (from gender) (1.2.0)\n"
     ]
    }
   ],
   "source": [
    "!pip install wikipedia\n",
    "!pip install gender"
   ]
  },
  {
   "cell_type": "code",
   "execution_count": 2,
   "id": "1e20b6aa",
   "metadata": {},
   "outputs": [],
   "source": [
    "import pandas as pd\n",
    "import wikipedia\n",
    "import gender_guesser.detector as gender"
   ]
  },
  {
   "cell_type": "code",
   "execution_count": 3,
   "id": "1b1fdf92",
   "metadata": {},
   "outputs": [],
   "source": [
    "wikipedia.set_lang(\"en\")\n",
    "detector = gender.Detector()"
   ]
  },
  {
   "cell_type": "code",
   "execution_count": 4,
   "id": "e7505d1b",
   "metadata": {},
   "outputs": [],
   "source": [
    "data = pd.read_csv(\"data.csv\")"
   ]
  },
  {
   "cell_type": "code",
   "execution_count": 5,
   "id": "495f4bc0",
   "metadata": {
    "scrolled": true
   },
   "outputs": [
    {
     "data": {
      "text/html": [
       "<div>\n",
       "<style scoped>\n",
       "    .dataframe tbody tr th:only-of-type {\n",
       "        vertical-align: middle;\n",
       "    }\n",
       "\n",
       "    .dataframe tbody tr th {\n",
       "        vertical-align: top;\n",
       "    }\n",
       "\n",
       "    .dataframe thead th {\n",
       "        text-align: right;\n",
       "    }\n",
       "</style>\n",
       "<table border=\"1\" class=\"dataframe\">\n",
       "  <thead>\n",
       "    <tr style=\"text-align: right;\">\n",
       "      <th></th>\n",
       "      <th>r_fighter</th>\n",
       "      <th>b_fighter</th>\n",
       "      <th>referee</th>\n",
       "      <th>date</th>\n",
       "      <th>location</th>\n",
       "      <th>winner</th>\n",
       "      <th>title_bout</th>\n",
       "      <th>weight_class</th>\n",
       "      <th>b_avg_kd</th>\n",
       "      <th>b_avg_opp_kd</th>\n",
       "      <th>...</th>\n",
       "      <th>r_win_by_decision_unanimous</th>\n",
       "      <th>r_win_by_ko/tko</th>\n",
       "      <th>r_win_by_submission</th>\n",
       "      <th>r_win_by_tko_doctor_stoppage</th>\n",
       "      <th>r_stance</th>\n",
       "      <th>r_height_cms</th>\n",
       "      <th>r_reach_cms</th>\n",
       "      <th>r_weight_lbs</th>\n",
       "      <th>b_age</th>\n",
       "      <th>r_age</th>\n",
       "    </tr>\n",
       "  </thead>\n",
       "  <tbody>\n",
       "    <tr>\n",
       "      <th>0</th>\n",
       "      <td>Adrian Yanez</td>\n",
       "      <td>Gustavo Lopez</td>\n",
       "      <td>Chris Tognoni</td>\n",
       "      <td>2021-03-20</td>\n",
       "      <td>Las Vegas, Nevada, USA</td>\n",
       "      <td>Red</td>\n",
       "      <td>False</td>\n",
       "      <td>Bantamweight</td>\n",
       "      <td>0.0</td>\n",
       "      <td>0.0</td>\n",
       "      <td>...</td>\n",
       "      <td>0</td>\n",
       "      <td>1</td>\n",
       "      <td>0</td>\n",
       "      <td>0</td>\n",
       "      <td>Orthodox</td>\n",
       "      <td>170.18</td>\n",
       "      <td>177.80</td>\n",
       "      <td>135.0</td>\n",
       "      <td>31.0</td>\n",
       "      <td>27.0</td>\n",
       "    </tr>\n",
       "    <tr>\n",
       "      <th>1</th>\n",
       "      <td>Trevin Giles</td>\n",
       "      <td>Roman Dolidze</td>\n",
       "      <td>Herb Dean</td>\n",
       "      <td>2021-03-20</td>\n",
       "      <td>Las Vegas, Nevada, USA</td>\n",
       "      <td>Red</td>\n",
       "      <td>False</td>\n",
       "      <td>Middleweight</td>\n",
       "      <td>0.5</td>\n",
       "      <td>0.0</td>\n",
       "      <td>...</td>\n",
       "      <td>0</td>\n",
       "      <td>3</td>\n",
       "      <td>0</td>\n",
       "      <td>0</td>\n",
       "      <td>Orthodox</td>\n",
       "      <td>182.88</td>\n",
       "      <td>187.96</td>\n",
       "      <td>185.0</td>\n",
       "      <td>32.0</td>\n",
       "      <td>28.0</td>\n",
       "    </tr>\n",
       "    <tr>\n",
       "      <th>2</th>\n",
       "      <td>Tai Tuivasa</td>\n",
       "      <td>Harry Hunsucker</td>\n",
       "      <td>Herb Dean</td>\n",
       "      <td>2021-03-20</td>\n",
       "      <td>Las Vegas, Nevada, USA</td>\n",
       "      <td>Red</td>\n",
       "      <td>False</td>\n",
       "      <td>Heavyweight</td>\n",
       "      <td>NaN</td>\n",
       "      <td>NaN</td>\n",
       "      <td>...</td>\n",
       "      <td>1</td>\n",
       "      <td>3</td>\n",
       "      <td>0</td>\n",
       "      <td>0</td>\n",
       "      <td>Southpaw</td>\n",
       "      <td>187.96</td>\n",
       "      <td>190.50</td>\n",
       "      <td>264.0</td>\n",
       "      <td>32.0</td>\n",
       "      <td>28.0</td>\n",
       "    </tr>\n",
       "  </tbody>\n",
       "</table>\n",
       "<p>3 rows × 144 columns</p>\n",
       "</div>"
      ],
      "text/plain": [
       "      r_fighter        b_fighter        referee        date  \\\n",
       "0  Adrian Yanez    Gustavo Lopez  Chris Tognoni  2021-03-20   \n",
       "1  Trevin Giles    Roman Dolidze      Herb Dean  2021-03-20   \n",
       "2   Tai Tuivasa  Harry Hunsucker      Herb Dean  2021-03-20   \n",
       "\n",
       "                 location winner  title_bout  weight_class  b_avg_kd  \\\n",
       "0  Las Vegas, Nevada, USA    Red       False  Bantamweight       0.0   \n",
       "1  Las Vegas, Nevada, USA    Red       False  Middleweight       0.5   \n",
       "2  Las Vegas, Nevada, USA    Red       False   Heavyweight       NaN   \n",
       "\n",
       "   b_avg_opp_kd  ...  r_win_by_decision_unanimous  r_win_by_ko/tko  \\\n",
       "0           0.0  ...                            0                1   \n",
       "1           0.0  ...                            0                3   \n",
       "2           NaN  ...                            1                3   \n",
       "\n",
       "   r_win_by_submission  r_win_by_tko_doctor_stoppage  r_stance  r_height_cms  \\\n",
       "0                    0                             0  Orthodox        170.18   \n",
       "1                    0                             0  Orthodox        182.88   \n",
       "2                    0                             0  Southpaw        187.96   \n",
       "\n",
       "   r_reach_cms  r_weight_lbs  b_age  r_age  \n",
       "0       177.80         135.0   31.0   27.0  \n",
       "1       187.96         185.0   32.0   28.0  \n",
       "2       190.50         264.0   32.0   28.0  \n",
       "\n",
       "[3 rows x 144 columns]"
      ]
     },
     "execution_count": 5,
     "metadata": {},
     "output_type": "execute_result"
    }
   ],
   "source": [
    "# data.head()\n",
    "# converting columns into lower case\n",
    "data.columns = data.columns.str.lower()\n",
    "data.head(3)"
   ]
  },
  {
   "cell_type": "code",
   "execution_count": 8,
   "id": "d480ef65",
   "metadata": {
    "scrolled": true
   },
   "outputs": [
    {
     "name": "stdout",
     "output_type": "stream",
     "text": [
      "6012\n"
     ]
    }
   ],
   "source": [
    "def getGender(name):\n",
    "    guess = detector.get_gender(fighter.split(\" \")[0])\n",
    "    if \"female\" in guess:\n",
    "        return \"female\"\n",
    "    if \"male\" in guess:\n",
    "        return \"male\"\n",
    "    try:\n",
    "        page =  wikipedia.page(name)\n",
    "        summary = page.summary\n",
    "        if \"he\" or \"him\" or \"his\" in summary:\n",
    "            return \"male\"\n",
    "        if \"she\" or \"her\" in summary:\n",
    "            return \"female\"\n",
    "        return 0\n",
    "    except:\n",
    "        return 0\n",
    "#     print(\"Name:\", fighter,\"Gender:\" , guess)\n",
    "\n",
    "    \n",
    "\n",
    "r_fighter = data[\"r_fighter\"]\n",
    "b_fighter = data[\"b_fighter\"]\n",
    "print(len(r_fighter))\n",
    "# genders = []\n",
    "# i=0\n",
    "# for fighter in r_fighter:\n",
    "#     print(i)\n",
    "#     genders.append(getGender(fighter))\n",
    "#     i+=1\n"
   ]
  },
  {
   "cell_type": "code",
   "execution_count": null,
   "id": "304fa2c8",
   "metadata": {},
   "outputs": [],
   "source": [
    "# with open(\"genders.txt\", \"w\") as f:\n",
    "#     for a in genders:\n",
    "#         f.write(str(a))\n",
    "#         f.write(\"\\n\")\n",
    "# #         f.write()\n",
    "    "
   ]
  },
  {
   "cell_type": "code",
   "execution_count": 9,
   "id": "e250b8ce",
   "metadata": {},
   "outputs": [],
   "source": [
    "temp = []\n",
    "with open(\"genders.txt\") as f:\n",
    "    temp = f.readlines()\n",
    "genders = []\n",
    "for x in temp:\n",
    "    x = x.split(\"\\n\")[0]\n",
    "    genders.append(x)\n"
   ]
  },
  {
   "cell_type": "code",
   "execution_count": null,
   "id": "3830cc02",
   "metadata": {},
   "outputs": [],
   "source": [
    "a = [x for x in genders if x==0]\n",
    "print(len(a))\n",
    "for i in range(0,len(genders)):\n",
    "    if genders[i] == '0':\n",
    "        print(i)\n",
    "        print(r_fighter[i])\n",
    "        try:\n",
    "            guess = detector.get_gender(b_fighter[i].split(\" \")[0])\n",
    "            if \"female\" in guess:\n",
    "                genders[i] = \"female\"\n",
    "                continue\n",
    "            if \"male\" in guess:\n",
    "                genders[i] = \"male\"  \n",
    "                continue\n",
    "            page =  wikipedia.page(b_fighter[i])\n",
    "            summary = page.summary\n",
    "            if \"he\" or \"him\" or \"his\" in summary:\n",
    "                genders[i] = \"male\"\n",
    "                continue\n",
    "            if \"she\" or \"her\" in summary:\n",
    "                genders[i] = \"female\"\n",
    "                continue\n",
    "        except:\n",
    "            print(\"no\")"
   ]
  },
  {
   "cell_type": "code",
   "execution_count": null,
   "id": "b6cb3a50",
   "metadata": {},
   "outputs": [],
   "source": []
  }
 ],
 "metadata": {
  "kernelspec": {
   "display_name": "Python 3 (ipykernel)",
   "language": "python",
   "name": "python3"
  },
  "language_info": {
   "codemirror_mode": {
    "name": "ipython",
    "version": 3
   },
   "file_extension": ".py",
   "mimetype": "text/x-python",
   "name": "python",
   "nbconvert_exporter": "python",
   "pygments_lexer": "ipython3",
   "version": "3.9.13"
  }
 },
 "nbformat": 4,
 "nbformat_minor": 5
}
